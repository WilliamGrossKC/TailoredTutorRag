{
 "cells": [
  {
   "cell_type": "code",
   "execution_count": null,
   "metadata": {},
   "outputs": [],
   "source": [
    "Thread notes\n",
    "- threadName method needs to edited, \n",
    "- I think I need to get original message and summarize it through the LLM and then use rename thread.py\n",
    "- We are going to use the streamAssistantResponse method to then follow the User message to the tailored tutor assistant service\n",
    "- Put message and stuff in the TTassistant service are where this probably will happen.\n",
    "\n",
    "Quick Questions\n",
    "- Do you want it the threat name continuously updated or should it just be based on the first message\n",
    "- Seems like it should use whatever LLM is already available in the stream assistant response .py\n",
    "\n",
    "Flow\n",
    "- "
   ]
  },
  {
   "cell_type": "code",
   "execution_count": null,
   "metadata": {},
   "outputs": [],
   "source": [
    "def generateThreadName(model, thread, userMessage, assistantResponse):\n",
    "    prompt = f\"Summarize the context of the following conversation to create a suitable thread name:\\nUser: {userMessage}\\nAssistant: {assistantResponse}\"\n",
    "    response = model.generate(prompt)\n",
    "    return response.strip()\n",
    "\n",
    "def updateThreadName(threadId, newThreadName):\n",
    "    dalUrl = os.environ['DAL_URL']\n",
    "    updatePayload = {'threadName': newThreadName}\n",
    "    updateResponse = requests.patch(f\"{dalUrl}/threads/{threadId}\", json=updatePayload)\n",
    "    if updateResponse.status_code != 200:\n",
    "        raise DALException(f\"Failed to update thread name. Status code: {updateResponse.status_code}\")"
   ]
  }
 ],
 "metadata": {
  "language_info": {
   "name": "python"
  },
  "orig_nbformat": 4
 },
 "nbformat": 4,
 "nbformat_minor": 2
}
