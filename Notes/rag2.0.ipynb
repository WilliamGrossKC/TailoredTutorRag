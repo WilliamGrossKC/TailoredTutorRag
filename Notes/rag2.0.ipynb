{
 "cells": [
  {
   "cell_type": "code",
   "execution_count": null,
   "metadata": {},
   "outputs": [],
   "source": [
    "import PyPDF2\n",
    "\n",
    "def extract_text_from_pdf(pdf_path):\n",
    "    with open(pdf_path, 'rb') as file:\n",
    "        reader = PyPDF2.PdfReader(file)\n",
    "        text = \"\"\n",
    "        for page in reader.pages:\n",
    "            text += page.extract_text()\n",
    "    return text"
   ]
  },
  {
   "cell_type": "code",
   "execution_count": null,
   "metadata": {},
   "outputs": [],
   "source": [
    "from transformers import AutoTokenizer\n",
    "\n",
    "def tokenize_text(text):\n",
    "    tokenizer = AutoTokenizer.from_pretrained('bert-base-uncased')\n",
    "    tokens = tokenizer.tokenize(text)\n",
    "    token_ids = tokenizer.convert_tokens_to_ids(tokens)\n",
    "    return tokens, token_ids"
   ]
  },
  {
   "cell_type": "code",
   "execution_count": null,
   "metadata": {},
   "outputs": [],
   "source": [
    "\n",
    "Copy code\n",
    "from transformers import AutoModel\n",
    "import torch\n",
    "\n",
    "def embed_tokens(token_ids):\n",
    "    model = AutoModel.from_pretrained('bert-base-uncased')\n",
    "    inputs = torch.tensor([token_ids])\n",
    "    with torch.no_grad():\n",
    "        embeddings = model(inputs)[0]  # embeddings of shape (batch_size, sequence_length, hidden_size)\n",
    "    return embeddings.squeeze(0)  # remove the batch dimension"
   ]
  },
  {
   "cell_type": "code",
   "execution_count": null,
   "metadata": {},
   "outputs": [],
   "source": [
    "import faiss\n",
    "import numpy as np\n",
    "\n",
    "def store_embeddings_in_faiss(embeddings):\n",
    "    dim = embeddings.size(1)  # 768\n",
    "    index = faiss.IndexFlatL2(dim)  # L2 distance for similarity search\n",
    "    embeddings_np = embeddings.numpy()\n",
    "    index.add(embeddings_np)\n",
    "    return index"
   ]
  }
 ],
 "metadata": {
  "language_info": {
   "name": "python"
  }
 },
 "nbformat": 4,
 "nbformat_minor": 2
}
